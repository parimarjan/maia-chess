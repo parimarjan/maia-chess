{
 "cells": [
  {
   "cell_type": "code",
   "execution_count": 1,
   "id": "8a8e4d6c",
   "metadata": {},
   "outputs": [],
   "source": [
    "import pandas as pd\n",
    "import matplotlib.pyplot as plt\n",
    "import numpy as np"
   ]
  },
  {
   "cell_type": "code",
   "execution_count": 2,
   "id": "fe8b80a2",
   "metadata": {},
   "outputs": [],
   "source": [
    "## captures (maybe implement forced recapturing), check if top move of SF is >>> second best move\n",
    "## WDL from Leela (maybe compare to actual game result, could be interesting)\n",
    "## move number (use FEN, string split)\n",
    "## Totally winning/losing moves\n",
    "## Castling rights (using FEN)\n",
    "## Stockfish static eval\n",
    "## https://github.com/marisvs/StaticEval/blob/master/code/CreateStaticEvalGraphs.py"
   ]
  },
  {
   "cell_type": "code",
   "execution_count": 3,
   "id": "3e7ec98a",
   "metadata": {
    "scrolled": true
   },
   "outputs": [
    {
     "name": "stdout",
     "output_type": "stream",
     "text": [
      "['game_id', 'type', 'result', 'white_player', 'black_player', 'white_elo', 'black_elo', 'time_control', 'num_ply', 'termination', 'white_won', 'black_won', 'no_winner', 'move_ply', 'move', 'cp', 'cp_rel', 'cp_loss', 'is_blunder_cp', 'winrate', 'winrate_elo', 'winrate_loss', 'is_blunder_wr', 'opp_winrate', 'white_active', 'active_elo', 'opponent_elo', 'active_won', 'is_capture', 'clock', 'opp_clock', 'clock_percent', 'opp_clock_percent', 'low_time', 'board', 'active_bishop_count', 'active_knight_count', 'active_pawn_count', 'active_queen_count', 'active_rook_count', 'is_check', 'num_legal_moves', 'opp_bishop_count', 'opp_knight_count', 'opp_pawn_count', 'opp_queen_count', 'opp_rook_count']\n",
      "['hYAIFMod', 'Rapid', '0-1', 'Thiron31', 'Socialengineery', '995', '1019', '600+0', '74', 'Normal', 'False', 'True', 'False', '44', 'b5d4', '-1.2', '-1.2', '-0.03', 'False', '0.4372', '0.3979', '-0.0058', 'False', '0.6382', 'True', '995', '1019', 'False', 'True', '450.0', '403.0', '0.25', '0.328', 'False', '3r1rk1/p5pp/1p6/1N6/3n3P/8/PP2K3/2R4R w - - 2 23', '0', '1', '3', '0', '2', '1', '6', '0', '1', '4', '0', '2']\n"
     ]
    }
   ],
   "source": [
    "import csv\n",
    "with open ('sample_evaluation_set.csv', newline = '') as game_data_csv:\n",
    "    game_data = csv.reader(game_data_csv, delimiter=',')\n",
    "    counter = 0\n",
    "    for row in game_data:\n",
    "        if counter > 1:\n",
    "            break\n",
    "        print(row)\n",
    "        counter += 1"
   ]
  },
  {
   "cell_type": "code",
   "execution_count": 4,
   "id": "7881f2a3",
   "metadata": {},
   "outputs": [
    {
     "name": "stdout",
     "output_type": "stream",
     "text": [
      "1296623\n"
     ]
    }
   ],
   "source": [
    "with open ('sample_evaluation_set.csv', newline = '') as game_data_csv:\n",
    "    game_data = csv.reader(game_data_csv, delimiter=',')\n",
    "    row_count = sum(1 for row in game_data)\n",
    "    print(row_count)\n",
    "    \n",
    "# So the number of rows of data we have is 100000"
   ]
  },
  {
   "cell_type": "code",
   "execution_count": 5,
   "id": "f3c74ab5",
   "metadata": {},
   "outputs": [
    {
     "name": "stderr",
     "output_type": "stream",
     "text": [
      "/Users/matthewho/Downloads/ENTER/lib/python3.9/site-packages/IPython/core/interactiveshell.py:3444: DtypeWarning: Columns (5,6,8,10,11,12,13,16,17,18,19,20,21,22,23,24,25,26,27,28,29,30,31,32,33,35,36,37,38,39,40,41,42,43,44,45,46) have mixed types.Specify dtype option on import or set low_memory=False.\n",
      "  exec(code_obj, self.user_global_ns, self.user_ns)\n"
     ]
    }
   ],
   "source": [
    "maia_dataframe = pd.read_csv(\"sample_evaluation_set.csv\", header=None)\n",
    "maia_dataframe.columns = maia_dataframe.iloc[0]\n",
    "maia_dataframe.drop(axis = 0, labels =  0, inplace = True, errors = 'raise')"
   ]
  },
  {
   "cell_type": "code",
   "execution_count": 6,
   "id": "d96b2d01",
   "metadata": {},
   "outputs": [
    {
     "name": "stdout",
     "output_type": "stream",
     "text": [
      "<class 'pandas.core.frame.DataFrame'>\n",
      "Int64Index: 1296622 entries, 1 to 1296622\n",
      "Data columns (total 47 columns):\n",
      " #   Column               Non-Null Count    Dtype \n",
      "---  ------               --------------    ----- \n",
      " 0   game_id              1296622 non-null  object\n",
      " 1   type                 1296622 non-null  object\n",
      " 2   result               1296622 non-null  object\n",
      " 3   white_player         1296622 non-null  object\n",
      " 4   black_player         1296622 non-null  object\n",
      " 5   white_elo            1296622 non-null  object\n",
      " 6   black_elo            1296622 non-null  object\n",
      " 7   time_control         1296622 non-null  object\n",
      " 8   num_ply              1296622 non-null  object\n",
      " 9   termination          1296622 non-null  object\n",
      " 10  white_won            1296622 non-null  object\n",
      " 11  black_won            1296622 non-null  object\n",
      " 12  no_winner            1296622 non-null  object\n",
      " 13  move_ply             1296622 non-null  object\n",
      " 14  move                 1296622 non-null  object\n",
      " 15  cp                   1296622 non-null  object\n",
      " 16  cp_rel               1296622 non-null  object\n",
      " 17  cp_loss              1143284 non-null  object\n",
      " 18  is_blunder_cp        1296622 non-null  object\n",
      " 19  winrate              951666 non-null   object\n",
      " 20  winrate_elo          951666 non-null   object\n",
      " 21  winrate_loss         902293 non-null   object\n",
      " 22  is_blunder_wr        1296622 non-null  object\n",
      " 23  opp_winrate          951666 non-null   object\n",
      " 24  white_active         1296622 non-null  object\n",
      " 25  active_elo           1296622 non-null  object\n",
      " 26  opponent_elo         1296622 non-null  object\n",
      " 27  active_won           1296622 non-null  object\n",
      " 28  is_capture           1296622 non-null  object\n",
      " 29  clock                1296622 non-null  object\n",
      " 30  opp_clock            1296622 non-null  object\n",
      " 31  clock_percent        1296622 non-null  object\n",
      " 32  opp_clock_percent    1296622 non-null  object\n",
      " 33  low_time             1296622 non-null  object\n",
      " 34  board                1296622 non-null  object\n",
      " 35  active_bishop_count  1296622 non-null  object\n",
      " 36  active_knight_count  1296622 non-null  object\n",
      " 37  active_pawn_count    1296622 non-null  object\n",
      " 38  active_queen_count   1296622 non-null  object\n",
      " 39  active_rook_count    1296622 non-null  object\n",
      " 40  is_check             1296622 non-null  object\n",
      " 41  num_legal_moves      1296622 non-null  object\n",
      " 42  opp_bishop_count     1296622 non-null  object\n",
      " 43  opp_knight_count     1296622 non-null  object\n",
      " 44  opp_pawn_count       1296622 non-null  object\n",
      " 45  opp_queen_count      1296622 non-null  object\n",
      " 46  opp_rook_count       1296622 non-null  object\n",
      "dtypes: object(47)\n",
      "memory usage: 474.8+ MB\n"
     ]
    }
   ],
   "source": [
    "maia_dataframe.info()"
   ]
  },
  {
   "cell_type": "code",
   "execution_count": 7,
   "id": "e2cb22f5",
   "metadata": {},
   "outputs": [],
   "source": [
    "df = maia_dataframe\n",
    "df['white_elo'] = df['white_elo'].astype(int)\n",
    "df['black_elo'] = df['black_elo'].astype(int)\n",
    "# maybe graph move number using the fen"
   ]
  },
  {
   "cell_type": "code",
   "execution_count": 8,
   "id": "fe6d5e25",
   "metadata": {},
   "outputs": [
    {
     "name": "stdout",
     "output_type": "stream",
     "text": [
      "[[<AxesSubplot:title={'center':'white_elo'}>]]\n",
      "[[<AxesSubplot:title={'center':'black_elo'}>]]\n"
     ]
    },
    {
     "data": {
      "image/png": "[encoded data removed]",
      "text/plain": [
       "<Figure size 432x288 with 1 Axes>"
      ]
     },
     "metadata": {
      "needs_background": "light"
     },
     "output_type": "display_data"
    },
    {
     "data": {
      "image/png": "[encoded data removed]",
      "text/plain": [
       "<Figure size 432x288 with 1 Axes>"
      ]
     },
     "metadata": {
      "needs_background": "light"
     },
     "output_type": "display_data"
    }
   ],
   "source": [
    "print(df.hist(column = 'white_elo', bins = 30))\n",
    "print(df.hist(column = 'black_elo', bins = 30))"
   ]
  },
  {
   "cell_type": "code",
   "execution_count": 9,
   "id": "e77ed25d",
   "metadata": {},
   "outputs": [],
   "source": [
    "df['elo_diff'] = abs(df['white_elo'] - df['black_elo'])"
   ]
  },
  {
   "cell_type": "code",
   "execution_count": 10,
   "id": "1d57eba9",
   "metadata": {},
   "outputs": [
    {
     "name": "stdout",
     "output_type": "stream",
     "text": [
      "[[<AxesSubplot:title={'center':'elo_diff'}>]]\n"
     ]
    },
    {
     "data": {
      "image/png": "[encoded data removed]",
      "text/plain": [
       "<Figure size 432x288 with 1 Axes>"
      ]
     },
     "metadata": {
      "needs_background": "light"
     },
     "output_type": "display_data"
    }
   ],
   "source": [
    "print(df.hist(column = 'elo_diff', bins = 30))"
   ]
  },
  {
   "cell_type": "code",
   "execution_count": 11,
   "id": "33c7216d",
   "metadata": {},
   "outputs": [
    {
     "name": "stdout",
     "output_type": "stream",
     "text": [
      "[[<AxesSubplot:title={'center':'num_legal_moves'}>]]\n"
     ]
    },
    {
     "data": {
      "image/png": "[encoded data removed]",
      "text/plain": [
       "<Figure size 432x288 with 1 Axes>"
      ]
     },
     "metadata": {
      "needs_background": "light"
     },
     "output_type": "display_data"
    }
   ],
   "source": [
    "df['num_legal_moves'] = pd.to_numeric(df['num_legal_moves'])\n",
    "print(df.hist(column = 'num_legal_moves', bins = 30))"
   ]
  },
  {
   "cell_type": "code",
   "execution_count": 12,
   "id": "900228e2",
   "metadata": {},
   "outputs": [
    {
     "data": {
      "text/plain": [
       "'8/6b1/3pq1k1/2p3pp/1p1p1p2/1P1PrP1P/P5P1/2Q1RBK1 w - - 2 38'"
      ]
     },
     "execution_count": 12,
     "metadata": {},
     "output_type": "execute_result"
    }
   ],
   "source": [
    "df['board'][2]"
   ]
  },
  {
   "cell_type": "code",
   "execution_count": 13,
   "id": "259ac957",
   "metadata": {},
   "outputs": [],
   "source": [
    "def fen_piece_count(fen):\n",
    "    piece_count = [0] * 12\n",
    "    piece_types_str = 'PRNBQKprnbqk'\n",
    "    for char in fen:\n",
    "        if char == ' ':\n",
    "            break\n",
    "        if piece_types_str.find(char) >= 0:\n",
    "            piece_count[piece_types_str.find(char)] += 1\n",
    "    return piece_count\n",
    "\n",
    "def find_white_piece_vals(fen):\n",
    "    total_piece_count = fen_piece_count(fen)\n",
    "    piece_vals = [1, 5, 3, 3, 9]\n",
    "    white_piece_vals = sum(total_piece_count[i] * piece_vals[i] for i in range(5))\n",
    "    return white_piece_vals\n",
    "\n",
    "def find_black_piece_vals(fen):\n",
    "    total_piece_count = fen_piece_count(fen)\n",
    "    piece_vals = [1, 5, 3, 3, 9]\n",
    "    black_piece_vals = sum(total_piece_count[i] * piece_vals[i - 6] for i in range(6, 11))\n",
    "    return black_piece_vals\n",
    "\n"
   ]
  },
  {
   "cell_type": "code",
   "execution_count": 14,
   "id": "51f58d9b",
   "metadata": {},
   "outputs": [],
   "source": [
    "# df['white_piece_vals'] = fen_piece_count_2(df['board'])\n",
    "df['white_piece_vals'] = df.apply(\n",
    "    lambda row: find_white_piece_vals(row.loc['board']), axis = 1)\n",
    "df['black_piece_vals'] = df.apply(\n",
    "    lambda row: find_black_piece_vals(row.loc['board']), axis = 1)\n",
    "df['sum_piece_vals'] = df.apply(lambda row: row.loc['white_piece_vals'] + row.loc['black_piece_vals'], axis = 1)"
   ]
  },
  {
   "cell_type": "code",
   "execution_count": 15,
   "id": "43f8cd7f",
   "metadata": {},
   "outputs": [
    {
     "data": {
      "text/html": [
       "<div>\n",
       "<style scoped>\n",
       "    .dataframe tbody tr th:only-of-type {\n",
       "        vertical-align: middle;\n",
       "    }\n",
       "\n",
       "    .dataframe tbody tr th {\n",
       "        vertical-align: top;\n",
       "    }\n",
       "\n",
       "    .dataframe thead th {\n",
       "        text-align: right;\n",
       "    }\n",
       "</style>\n",
       "<table border=\"1\" class=\"dataframe\">\n",
       "  <thead>\n",
       "    <tr style=\"text-align: right;\">\n",
       "      <th></th>\n",
       "      <th>sum_piece_vals</th>\n",
       "    </tr>\n",
       "  </thead>\n",
       "  <tbody>\n",
       "    <tr>\n",
       "      <th>1</th>\n",
       "      <td>33</td>\n",
       "    </tr>\n",
       "    <tr>\n",
       "      <th>2</th>\n",
       "      <td>47</td>\n",
       "    </tr>\n",
       "    <tr>\n",
       "      <th>3</th>\n",
       "      <td>56</td>\n",
       "    </tr>\n",
       "    <tr>\n",
       "      <th>4</th>\n",
       "      <td>50</td>\n",
       "    </tr>\n",
       "    <tr>\n",
       "      <th>5</th>\n",
       "      <td>28</td>\n",
       "    </tr>\n",
       "    <tr>\n",
       "      <th>...</th>\n",
       "      <td>...</td>\n",
       "    </tr>\n",
       "    <tr>\n",
       "      <th>1296618</th>\n",
       "      <td>56</td>\n",
       "    </tr>\n",
       "    <tr>\n",
       "      <th>1296619</th>\n",
       "      <td>55</td>\n",
       "    </tr>\n",
       "    <tr>\n",
       "      <th>1296620</th>\n",
       "      <td>69</td>\n",
       "    </tr>\n",
       "    <tr>\n",
       "      <th>1296621</th>\n",
       "      <td>46</td>\n",
       "    </tr>\n",
       "    <tr>\n",
       "      <th>1296622</th>\n",
       "      <td>63</td>\n",
       "    </tr>\n",
       "  </tbody>\n",
       "</table>\n",
       "<p>1296622 rows × 1 columns</p>\n",
       "</div>"
      ],
      "text/plain": [
       "0        sum_piece_vals\n",
       "1                    33\n",
       "2                    47\n",
       "3                    56\n",
       "4                    50\n",
       "5                    28\n",
       "...                 ...\n",
       "1296618              56\n",
       "1296619              55\n",
       "1296620              69\n",
       "1296621              46\n",
       "1296622              63\n",
       "\n",
       "[1296622 rows x 1 columns]"
      ]
     },
     "execution_count": 15,
     "metadata": {},
     "output_type": "execute_result"
    }
   ],
   "source": [
    "df[['sum_piece_vals']]"
   ]
  },
  {
   "cell_type": "code",
   "execution_count": 16,
   "id": "74e6c029",
   "metadata": {},
   "outputs": [
    {
     "name": "stdout",
     "output_type": "stream",
     "text": [
      "[[<AxesSubplot:title={'center':'sum_piece_vals'}>]]\n"
     ]
    },
    {
     "data": {
      "image/png": "[encoded data removed]",
      "text/plain": [
       "<Figure size 432x288 with 1 Axes>"
      ]
     },
     "metadata": {
      "needs_background": "light"
     },
     "output_type": "display_data"
    }
   ],
   "source": [
    "print(df.hist(column = 'sum_piece_vals', bins = 94))"
   ]
  },
  {
   "cell_type": "code",
   "execution_count": 17,
   "id": "9531bd9c",
   "metadata": {},
   "outputs": [
    {
     "name": "stdout",
     "output_type": "stream",
     "text": [
      "94        1\n",
      "86        2\n",
      "81        1\n",
      "80        1\n",
      "79        1\n",
      "78     1684\n",
      "77      726\n",
      "76     5553\n",
      "75     2648\n",
      "74     4625\n",
      "73     3257\n",
      "72     7051\n",
      "71     5516\n",
      "70    21434\n",
      "69    14104\n",
      "68    19285\n",
      "67    14862\n",
      "66    18249\n",
      "65    16936\n",
      "64    36197\n",
      "63    28229\n",
      "62    33897\n",
      "61    26442\n",
      "60    26652\n",
      "59    23913\n",
      "58    33346\n",
      "57    28167\n",
      "56    30629\n",
      "55    26034\n",
      "54    25374\n",
      "53    22180\n",
      "52    24827\n",
      "51    22302\n",
      "50    22923\n",
      "49    20889\n",
      "48    20981\n",
      "47    20293\n",
      "46    23600\n",
      "45    22563\n",
      "44    24398\n",
      "43    22288\n",
      "42    21384\n",
      "41    20270\n",
      "40    22333\n",
      "39    21470\n",
      "38    23275\n",
      "37    21281\n",
      "36    21297\n",
      "35    19585\n",
      "34    19645\n",
      "33    18088\n",
      "32    18395\n",
      "31    17094\n",
      "30    17442\n",
      "29    16886\n",
      "28    17656\n",
      "27    17376\n",
      "26    17360\n",
      "25    16445\n",
      "24    16306\n",
      "23    15521\n",
      "22    15470\n",
      "21    14953\n",
      "20    15602\n",
      "19    14906\n",
      "18    15915\n",
      "17    14923\n",
      "16    14495\n",
      "15    13808\n",
      "14    13495\n",
      "13    12064\n",
      "12    11634\n",
      "11    10288\n",
      "10     9310\n",
      "9      8739\n",
      "8      6038\n",
      "7      5026\n",
      "6      4835\n",
      "5      5019\n",
      "4      2879\n",
      "3      1799\n",
      "2      2030\n",
      "1      2225\n"
     ]
    }
   ],
   "source": [
    "print(df['sum_piece_vals'].value_counts().sort_index(ascending = False).to_string())"
   ]
  },
  {
   "cell_type": "code",
   "execution_count": 18,
   "id": "bb01f15f",
   "metadata": {},
   "outputs": [],
   "source": [
    "df2 = df"
   ]
  },
  {
   "cell_type": "code",
   "execution_count": 19,
   "id": "999b6917",
   "metadata": {},
   "outputs": [],
   "source": [
    "df = df2"
   ]
  },
  {
   "cell_type": "code",
   "execution_count": 20,
   "id": "2cee758c",
   "metadata": {},
   "outputs": [
    {
     "name": "stdout",
     "output_type": "stream",
     "text": [
      "1            -1.2\n",
      "2           -1.85\n",
      "3          -17.92\n",
      "6            9.91\n",
      "7           -0.55\n",
      "            ...  \n",
      "1296618       1.6\n",
      "1296619    -11.79\n",
      "1296620      5.06\n",
      "1296621     -1.06\n",
      "1296622      3.19\n",
      "Name: cp, Length: 1125739, dtype: object\n"
     ]
    }
   ],
   "source": [
    "#Use this if you want the \"#0\"s and \"#-0\"s to be in the data, otherwise don't\n",
    "\n",
    "# def to_numeric(sf_eval):\n",
    "#     if sf_eval[0] == '#':\n",
    "#         if sf_eval[1] == \"-\":\n",
    "#             return 100\n",
    "#         elif sf_eval[1] == \"0\":\n",
    "#             return -100\n",
    "#     return float(sf_eval)\n",
    "\n",
    "# df = df[df.cp != 'None']\n",
    "# df['cp'] = df.apply(lambda row: to_numeric(row['cp']), axis = 1)\n",
    "\n",
    "\n",
    "df = df[df.cp != 'None']\n",
    "df = df[(df['cp'] != \"#0\") & (df['cp'] != \"#-0\")]\n",
    "print(df['cp'])\n",
    "df['cp'] = pd.to_numeric(df['cp'])"
   ]
  },
  {
   "cell_type": "code",
   "execution_count": 21,
   "id": "24648864",
   "metadata": {},
   "outputs": [
    {
     "name": "stdout",
     "output_type": "stream",
     "text": [
      "[[<AxesSubplot:title={'center':'cp'}>]]\n"
     ]
    },
    {
     "data": {
      "image/png": "[encoded data removed]",
      "text/plain": [
       "<Figure size 432x288 with 1 Axes>"
      ]
     },
     "metadata": {
      "needs_background": "light"
     },
     "output_type": "display_data"
    }
   ],
   "source": [
    "print(df.hist(column = 'cp', bins = 100, range = [-20, 20]))"
   ]
  },
  {
   "cell_type": "code",
   "execution_count": 22,
   "id": "af151386",
   "metadata": {},
   "outputs": [
    {
     "name": "stdout",
     "output_type": "stream",
     "text": [
      "[[<AxesSubplot:title={'center':'move_ply'}>]]\n"
     ]
    },
    {
     "data": {
      "image/png": "[encoded data removed]",
      "text/plain": [
       "<Figure size 432x288 with 1 Axes>"
      ]
     },
     "metadata": {
      "needs_background": "light"
     },
     "output_type": "display_data"
    }
   ],
   "source": [
    "df['move_ply'] = df['move_ply'].astype(int)\n",
    "print(df.hist(column = 'move_ply', bins = 200, range = [0, 200]))"
   ]
  },
  {
   "cell_type": "code",
   "execution_count": 23,
   "id": "0abfb231",
   "metadata": {},
   "outputs": [
    {
     "data": {
      "text/html": [
       "<div>\n",
       "<style scoped>\n",
       "    .dataframe tbody tr th:only-of-type {\n",
       "        vertical-align: middle;\n",
       "    }\n",
       "\n",
       "    .dataframe tbody tr th {\n",
       "        vertical-align: top;\n",
       "    }\n",
       "\n",
       "    .dataframe thead th {\n",
       "        text-align: right;\n",
       "    }\n",
       "</style>\n",
       "<table border=\"1\" class=\"dataframe\">\n",
       "  <thead>\n",
       "    <tr style=\"text-align: right;\">\n",
       "      <th></th>\n",
       "      <th>game_id</th>\n",
       "      <th>type</th>\n",
       "      <th>result</th>\n",
       "      <th>white_player</th>\n",
       "      <th>black_player</th>\n",
       "      <th>white_elo</th>\n",
       "      <th>black_elo</th>\n",
       "      <th>time_control</th>\n",
       "      <th>num_ply</th>\n",
       "      <th>termination</th>\n",
       "      <th>...</th>\n",
       "      <th>num_legal_moves</th>\n",
       "      <th>opp_bishop_count</th>\n",
       "      <th>opp_knight_count</th>\n",
       "      <th>opp_pawn_count</th>\n",
       "      <th>opp_queen_count</th>\n",
       "      <th>opp_rook_count</th>\n",
       "      <th>elo_diff</th>\n",
       "      <th>white_piece_vals</th>\n",
       "      <th>black_piece_vals</th>\n",
       "      <th>sum_piece_vals</th>\n",
       "    </tr>\n",
       "    <tr>\n",
       "      <th>cp</th>\n",
       "      <th></th>\n",
       "      <th></th>\n",
       "      <th></th>\n",
       "      <th></th>\n",
       "      <th></th>\n",
       "      <th></th>\n",
       "      <th></th>\n",
       "      <th></th>\n",
       "      <th></th>\n",
       "      <th></th>\n",
       "      <th></th>\n",
       "      <th></th>\n",
       "      <th></th>\n",
       "      <th></th>\n",
       "      <th></th>\n",
       "      <th></th>\n",
       "      <th></th>\n",
       "      <th></th>\n",
       "      <th></th>\n",
       "      <th></th>\n",
       "      <th></th>\n",
       "    </tr>\n",
       "  </thead>\n",
       "  <tbody>\n",
       "    <tr>\n",
       "      <th>(-10, -8]</th>\n",
       "      <td>43563</td>\n",
       "      <td>43563</td>\n",
       "      <td>43563</td>\n",
       "      <td>43563</td>\n",
       "      <td>43563</td>\n",
       "      <td>43563</td>\n",
       "      <td>43563</td>\n",
       "      <td>43563</td>\n",
       "      <td>43563</td>\n",
       "      <td>43563</td>\n",
       "      <td>...</td>\n",
       "      <td>43563</td>\n",
       "      <td>43563</td>\n",
       "      <td>43563</td>\n",
       "      <td>43563</td>\n",
       "      <td>43563</td>\n",
       "      <td>43563</td>\n",
       "      <td>43563</td>\n",
       "      <td>43563</td>\n",
       "      <td>43563</td>\n",
       "      <td>43563</td>\n",
       "    </tr>\n",
       "    <tr>\n",
       "      <th>(-8, -6]</th>\n",
       "      <td>61960</td>\n",
       "      <td>61960</td>\n",
       "      <td>61960</td>\n",
       "      <td>61960</td>\n",
       "      <td>61960</td>\n",
       "      <td>61960</td>\n",
       "      <td>61960</td>\n",
       "      <td>61960</td>\n",
       "      <td>61960</td>\n",
       "      <td>61960</td>\n",
       "      <td>...</td>\n",
       "      <td>61960</td>\n",
       "      <td>61960</td>\n",
       "      <td>61960</td>\n",
       "      <td>61960</td>\n",
       "      <td>61960</td>\n",
       "      <td>61960</td>\n",
       "      <td>61960</td>\n",
       "      <td>61960</td>\n",
       "      <td>61960</td>\n",
       "      <td>61960</td>\n",
       "    </tr>\n",
       "    <tr>\n",
       "      <th>(-6, -4]</th>\n",
       "      <td>66663</td>\n",
       "      <td>66663</td>\n",
       "      <td>66663</td>\n",
       "      <td>66663</td>\n",
       "      <td>66663</td>\n",
       "      <td>66663</td>\n",
       "      <td>66663</td>\n",
       "      <td>66663</td>\n",
       "      <td>66663</td>\n",
       "      <td>66663</td>\n",
       "      <td>...</td>\n",
       "      <td>66663</td>\n",
       "      <td>66663</td>\n",
       "      <td>66663</td>\n",
       "      <td>66663</td>\n",
       "      <td>66663</td>\n",
       "      <td>66663</td>\n",
       "      <td>66663</td>\n",
       "      <td>66663</td>\n",
       "      <td>66663</td>\n",
       "      <td>66663</td>\n",
       "    </tr>\n",
       "    <tr>\n",
       "      <th>(-4, -2]</th>\n",
       "      <td>96468</td>\n",
       "      <td>96468</td>\n",
       "      <td>96468</td>\n",
       "      <td>96468</td>\n",
       "      <td>96468</td>\n",
       "      <td>96468</td>\n",
       "      <td>96468</td>\n",
       "      <td>96468</td>\n",
       "      <td>96468</td>\n",
       "      <td>96468</td>\n",
       "      <td>...</td>\n",
       "      <td>96468</td>\n",
       "      <td>96468</td>\n",
       "      <td>96468</td>\n",
       "      <td>96468</td>\n",
       "      <td>96468</td>\n",
       "      <td>96468</td>\n",
       "      <td>96468</td>\n",
       "      <td>96468</td>\n",
       "      <td>96468</td>\n",
       "      <td>96468</td>\n",
       "    </tr>\n",
       "    <tr>\n",
       "      <th>(-2, 0]</th>\n",
       "      <td>224460</td>\n",
       "      <td>224460</td>\n",
       "      <td>224460</td>\n",
       "      <td>224460</td>\n",
       "      <td>224460</td>\n",
       "      <td>224460</td>\n",
       "      <td>224460</td>\n",
       "      <td>224460</td>\n",
       "      <td>224460</td>\n",
       "      <td>224460</td>\n",
       "      <td>...</td>\n",
       "      <td>224460</td>\n",
       "      <td>224460</td>\n",
       "      <td>224460</td>\n",
       "      <td>224460</td>\n",
       "      <td>224460</td>\n",
       "      <td>224460</td>\n",
       "      <td>224460</td>\n",
       "      <td>224460</td>\n",
       "      <td>224460</td>\n",
       "      <td>224460</td>\n",
       "    </tr>\n",
       "    <tr>\n",
       "      <th>(0, 2]</th>\n",
       "      <td>177127</td>\n",
       "      <td>177127</td>\n",
       "      <td>177127</td>\n",
       "      <td>177127</td>\n",
       "      <td>177127</td>\n",
       "      <td>177127</td>\n",
       "      <td>177127</td>\n",
       "      <td>177127</td>\n",
       "      <td>177127</td>\n",
       "      <td>177127</td>\n",
       "      <td>...</td>\n",
       "      <td>177127</td>\n",
       "      <td>177127</td>\n",
       "      <td>177127</td>\n",
       "      <td>177127</td>\n",
       "      <td>177127</td>\n",
       "      <td>177127</td>\n",
       "      <td>177127</td>\n",
       "      <td>177127</td>\n",
       "      <td>177127</td>\n",
       "      <td>177127</td>\n",
       "    </tr>\n",
       "    <tr>\n",
       "      <th>(2, 4]</th>\n",
       "      <td>98846</td>\n",
       "      <td>98846</td>\n",
       "      <td>98846</td>\n",
       "      <td>98846</td>\n",
       "      <td>98846</td>\n",
       "      <td>98846</td>\n",
       "      <td>98846</td>\n",
       "      <td>98846</td>\n",
       "      <td>98846</td>\n",
       "      <td>98846</td>\n",
       "      <td>...</td>\n",
       "      <td>98846</td>\n",
       "      <td>98846</td>\n",
       "      <td>98846</td>\n",
       "      <td>98846</td>\n",
       "      <td>98846</td>\n",
       "      <td>98846</td>\n",
       "      <td>98846</td>\n",
       "      <td>98846</td>\n",
       "      <td>98846</td>\n",
       "      <td>98846</td>\n",
       "    </tr>\n",
       "    <tr>\n",
       "      <th>(4, 6]</th>\n",
       "      <td>68637</td>\n",
       "      <td>68637</td>\n",
       "      <td>68637</td>\n",
       "      <td>68637</td>\n",
       "      <td>68637</td>\n",
       "      <td>68637</td>\n",
       "      <td>68637</td>\n",
       "      <td>68637</td>\n",
       "      <td>68637</td>\n",
       "      <td>68637</td>\n",
       "      <td>...</td>\n",
       "      <td>68637</td>\n",
       "      <td>68637</td>\n",
       "      <td>68637</td>\n",
       "      <td>68637</td>\n",
       "      <td>68637</td>\n",
       "      <td>68637</td>\n",
       "      <td>68637</td>\n",
       "      <td>68637</td>\n",
       "      <td>68637</td>\n",
       "      <td>68637</td>\n",
       "    </tr>\n",
       "    <tr>\n",
       "      <th>(6, 8]</th>\n",
       "      <td>64709</td>\n",
       "      <td>64709</td>\n",
       "      <td>64709</td>\n",
       "      <td>64709</td>\n",
       "      <td>64709</td>\n",
       "      <td>64709</td>\n",
       "      <td>64709</td>\n",
       "      <td>64709</td>\n",
       "      <td>64709</td>\n",
       "      <td>64709</td>\n",
       "      <td>...</td>\n",
       "      <td>64709</td>\n",
       "      <td>64709</td>\n",
       "      <td>64709</td>\n",
       "      <td>64709</td>\n",
       "      <td>64709</td>\n",
       "      <td>64709</td>\n",
       "      <td>64709</td>\n",
       "      <td>64709</td>\n",
       "      <td>64709</td>\n",
       "      <td>64709</td>\n",
       "    </tr>\n",
       "    <tr>\n",
       "      <th>(8, 10]</th>\n",
       "      <td>46535</td>\n",
       "      <td>46535</td>\n",
       "      <td>46535</td>\n",
       "      <td>46535</td>\n",
       "      <td>46535</td>\n",
       "      <td>46535</td>\n",
       "      <td>46535</td>\n",
       "      <td>46535</td>\n",
       "      <td>46535</td>\n",
       "      <td>46535</td>\n",
       "      <td>...</td>\n",
       "      <td>46535</td>\n",
       "      <td>46535</td>\n",
       "      <td>46535</td>\n",
       "      <td>46535</td>\n",
       "      <td>46535</td>\n",
       "      <td>46535</td>\n",
       "      <td>46535</td>\n",
       "      <td>46535</td>\n",
       "      <td>46535</td>\n",
       "      <td>46535</td>\n",
       "    </tr>\n",
       "  </tbody>\n",
       "</table>\n",
       "<p>10 rows × 51 columns</p>\n",
       "</div>"
      ],
      "text/plain": [
       "0          game_id    type  result  white_player  black_player  white_elo  \\\n",
       "cp                                                                          \n",
       "(-10, -8]    43563   43563   43563         43563         43563      43563   \n",
       "(-8, -6]     61960   61960   61960         61960         61960      61960   \n",
       "(-6, -4]     66663   66663   66663         66663         66663      66663   \n",
       "(-4, -2]     96468   96468   96468         96468         96468      96468   \n",
       "(-2, 0]     224460  224460  224460        224460        224460     224460   \n",
       "(0, 2]      177127  177127  177127        177127        177127     177127   \n",
       "(2, 4]       98846   98846   98846         98846         98846      98846   \n",
       "(4, 6]       68637   68637   68637         68637         68637      68637   \n",
       "(6, 8]       64709   64709   64709         64709         64709      64709   \n",
       "(8, 10]      46535   46535   46535         46535         46535      46535   \n",
       "\n",
       "0          black_elo  time_control  num_ply  termination  ...  \\\n",
       "cp                                                        ...   \n",
       "(-10, -8]      43563         43563    43563        43563  ...   \n",
       "(-8, -6]       61960         61960    61960        61960  ...   \n",
       "(-6, -4]       66663         66663    66663        66663  ...   \n",
       "(-4, -2]       96468         96468    96468        96468  ...   \n",
       "(-2, 0]       224460        224460   224460       224460  ...   \n",
       "(0, 2]        177127        177127   177127       177127  ...   \n",
       "(2, 4]         98846         98846    98846        98846  ...   \n",
       "(4, 6]         68637         68637    68637        68637  ...   \n",
       "(6, 8]         64709         64709    64709        64709  ...   \n",
       "(8, 10]        46535         46535    46535        46535  ...   \n",
       "\n",
       "0          num_legal_moves  opp_bishop_count  opp_knight_count  \\\n",
       "cp                                                               \n",
       "(-10, -8]            43563             43563             43563   \n",
       "(-8, -6]             61960             61960             61960   \n",
       "(-6, -4]             66663             66663             66663   \n",
       "(-4, -2]             96468             96468             96468   \n",
       "(-2, 0]             224460            224460            224460   \n",
       "(0, 2]              177127            177127            177127   \n",
       "(2, 4]               98846             98846             98846   \n",
       "(4, 6]               68637             68637             68637   \n",
       "(6, 8]               64709             64709             64709   \n",
       "(8, 10]              46535             46535             46535   \n",
       "\n",
       "0          opp_pawn_count  opp_queen_count  opp_rook_count  elo_diff  \\\n",
       "cp                                                                     \n",
       "(-10, -8]           43563            43563           43563     43563   \n",
       "(-8, -6]            61960            61960           61960     61960   \n",
       "(-6, -4]            66663            66663           66663     66663   \n",
       "(-4, -2]            96468            96468           96468     96468   \n",
       "(-2, 0]            224460           224460          224460    224460   \n",
       "(0, 2]             177127           177127          177127    177127   \n",
       "(2, 4]              98846            98846           98846     98846   \n",
       "(4, 6]              68637            68637           68637     68637   \n",
       "(6, 8]              64709            64709           64709     64709   \n",
       "(8, 10]             46535            46535           46535     46535   \n",
       "\n",
       "0          white_piece_vals  black_piece_vals  sum_piece_vals  \n",
       "cp                                                             \n",
       "(-10, -8]             43563             43563           43563  \n",
       "(-8, -6]              61960             61960           61960  \n",
       "(-6, -4]              66663             66663           66663  \n",
       "(-4, -2]              96468             96468           96468  \n",
       "(-2, 0]              224460            224460          224460  \n",
       "(0, 2]               177127            177127          177127  \n",
       "(2, 4]                98846             98846           98846  \n",
       "(4, 6]                68637             68637           68637  \n",
       "(6, 8]                64709             64709           64709  \n",
       "(8, 10]               46535             46535           46535  \n",
       "\n",
       "[10 rows x 51 columns]"
      ]
     },
     "execution_count": 23,
     "metadata": {},
     "output_type": "execute_result"
    }
   ],
   "source": [
    "df.groupby([pd.cut(df['cp'], np.arange(-10,12,2))]).count()"
   ]
  },
  {
   "cell_type": "code",
   "execution_count": 24,
   "id": "3d4d16f8",
   "metadata": {},
   "outputs": [
    {
     "data": {
      "text/plain": [
       "Wdl(wins=109, draws=879, losses=12)"
      ]
     },
     "execution_count": 24,
     "metadata": {},
     "output_type": "execute_result"
    }
   ],
   "source": [
    "# https://pypi.org/project/stockfish/\n",
    "# https://acepoint.de/some-chess-stuff-for-apples-m1/\n",
    "# code from https://stackoverflow.com/questions/58556338/python-evaluating-a-board-position-using-stockfish-from-the-python-chess-librar\n",
    "import chess\n",
    "import chess.engine\n",
    "from chess.engine import *\n",
    "def stockfish_evaluation(board, time_limit = 0.05, depth_searched = 100):\n",
    "    engine = chess.engine.SimpleEngine.popen_uci(\"/Users/matthewho/Downloads/ChessEngineWork/maia-chess/stockfish-13\")\n",
    "    result = engine.analyse(board, chess.engine.Limit(time = time_limit, depth = depth_searched))\n",
    "    engine.close()\n",
    "    return result\n",
    "\n",
    "\n",
    "board = chess.Board(\"rnbqkbnr/pppppppp/8/8/8/8/PPPPPPPP/RNBQKBNR w KQkq - 0 1\")\n",
    "pov_score = stockfish_evaluation(board)[\"score\"]\n",
    "# print(pov_score.wdl(ply = 20))\n",
    "# if pov_score\n",
    "# print(evaluation)\n",
    "Cp(50).wdl(ply = 10)"
   ]
  },
  {
   "cell_type": "code",
   "execution_count": 41,
   "id": "6bbfeab4",
   "metadata": {},
   "outputs": [],
   "source": [
    "badfen = \"\""
   ]
  },
  {
   "cell_type": "code",
   "execution_count": 118,
   "id": "bba42d14",
   "metadata": {},
   "outputs": [],
   "source": [
    "def get_eval(movestring):\n",
    "    if isinstance(movestring['Mate'], int):\n",
    "        if movestring['Mate'] > 0:\n",
    "            return 2000\n",
    "        else:\n",
    "            return -2000\n",
    "    return movestring['Centipawn']\n",
    "\n",
    "# can use Cp(evaluation).wdl().expectation() to have an alternative metric\n",
    "def find_number_ok_moves(fen, diff_raw_cp = 100):\n",
    "    stockfish.set_fen_position(fen)\n",
    "    #the next line is really slow\n",
    "    top_moves = stockfish.get_top_moves(20)\n",
    "    best_move_eval = get_eval(top_moves[0])\n",
    "    num_top_moves = len(top_moves)\n",
    "    for i in range(num_top_moves):\n",
    "        candidate_move_eval = get_eval(top_moves[i])\n",
    "        if abs(best_move_eval - candidate_move_eval) >= diff_raw_cp and (min(abs(best_move_eval), abs(candidate_move_eval)) < 500 or best_move_eval * candidate_move_eval >= 0):\n",
    "            return i\n",
    "    return num_top_moves\n"
   ]
  },
  {
   "cell_type": "code",
   "execution_count": 125,
   "id": "0e9b9c98",
   "metadata": {},
   "outputs": [],
   "source": [
    "def test_fn_speed(fen):\n",
    "    for i in range(20):\n",
    "        find_number_ok_moves(fen)\n",
    "    return 0"
   ]
  },
  {
   "cell_type": "code",
   "execution_count": 127,
   "id": "72cf397e",
   "metadata": {},
   "outputs": [
    {
     "name": "stdout",
     "output_type": "stream",
     "text": [
      "CPU times: user 18.8 ms, sys: 6.59 ms, total: 25.4 ms\n",
      "Wall time: 14.8 s\n"
     ]
    },
    {
     "data": {
      "text/plain": [
       "0"
      ]
     },
     "execution_count": 127,
     "metadata": {},
     "output_type": "execute_result"
    }
   ],
   "source": [
    "%%time\n",
    "test_fn_speed(\"r2q2k1/p4rPp/1pb1p3/8/3p4/P1NKbPN1/1PP3nP/R2Q3R w - - 0 20\")"
   ]
  },
  {
   "cell_type": "code",
   "execution_count": 126,
   "id": "a89d4a83",
   "metadata": {},
   "outputs": [
    {
     "name": "stdout",
     "output_type": "stream",
     "text": [
      "         36064 function calls in 14.651 seconds\n",
      "\n",
      "   Ordered by: standard name\n",
      "\n",
      "   ncalls  tottime  percall  cumtime  percall filename:lineno(function)\n",
      "       60    0.000    0.000    0.000    0.000 1863994553.py:1(get_eval)\n",
      "       20    0.004    0.000   14.651    0.733 1863994553.py:10(find_number_ok_moves)\n",
      "        1    0.000    0.000   14.651   14.651 3253127304.py:1(test_fn_speed)\n",
      "        1    0.000    0.000   14.651   14.651 <string>:1(<module>)\n",
      "      400    0.001    0.000    0.001    0.000 codecs.py:319(decode)\n",
      "       20    0.000    0.000    0.000    0.000 models.py:102(_go)\n",
      "       20    0.000    0.000    0.001    0.000 models.py:166(get_fen_position)\n",
      "       20    0.000    0.000    0.007    0.000 models.py:206(set_fen_position)\n",
      "       20    0.003    0.000   14.639    0.732 models.py:314(get_top_moves)\n",
      "       20    0.000    0.000    0.007    0.000 models.py:75(_prepare_for_new_position)\n",
      "      180    0.000    0.000    0.001    0.000 models.py:81(_put)\n",
      "     6560    0.002    0.000   14.635    0.002 models.py:87(_read_line)\n",
      "       40    0.000    0.000    0.001    0.000 models.py:92(_set_option)\n",
      "       60    0.000    0.000    0.008    0.000 models.py:96(_is_ready)\n",
      "      400    0.001    0.000    0.001    0.000 {built-in method _codecs.utf_8_decode}\n",
      "       80    0.000    0.000    0.000    0.000 {built-in method builtins.abs}\n",
      "        1    0.000    0.000   14.651   14.651 {built-in method builtins.exec}\n",
      "       60    0.000    0.000    0.000    0.000 {built-in method builtins.isinstance}\n",
      "       20    0.000    0.000    0.000    0.000 {built-in method builtins.len}\n",
      "       20    0.000    0.000    0.000    0.000 {built-in method builtins.min}\n",
      "     6040    0.000    0.000    0.000    0.000 {method 'append' of 'list' objects}\n",
      "        1    0.000    0.000    0.000    0.000 {method 'disable' of '_lsprof.Profiler' objects}\n",
      "      180    0.000    0.000    0.000    0.000 {method 'flush' of '_io.TextIOWrapper' objects}\n",
      "     1620    0.000    0.000    0.000    0.000 {method 'index' of 'list' objects}\n",
      "      400    0.000    0.000    0.000    0.000 {method 'insert' of 'list' objects}\n",
      "       20    0.000    0.000    0.000    0.000 {method 'join' of 'str' objects}\n",
      "     6560   14.632    0.002   14.633    0.002 {method 'readline' of '_io.TextIOWrapper' objects}\n",
      "     6460    0.007    0.000    0.007    0.000 {method 'split' of 'str' objects}\n",
      "     6560    0.001    0.000    0.001    0.000 {method 'strip' of 'str' objects}\n",
      "       40    0.000    0.000    0.000    0.000 {method 'update' of 'dict' objects}\n",
      "      180    0.000    0.000    0.000    0.000 {method 'write' of '_io.TextIOWrapper' objects}\n",
      "\n",
      "\n"
     ]
    }
   ],
   "source": [
    "import cProfile\n",
    "import re\n",
    "cProfile.run('test_fn_speed(\"r2q2k1/p4rPp/1pb1p3/8/3p4/P1NKbPN1/1PP3nP/R2Q3R w - - 0 20\")')"
   ]
  },
  {
   "cell_type": "code",
   "execution_count": 102,
   "id": "1a77d3f5",
   "metadata": {},
   "outputs": [],
   "source": [
    "from stockfish import Stockfish\n",
    "stockfish_path = \"/Users/matthewho/Downloads/ChessEngineWork/maia-chess/stockfish-13\"\n",
    "\n",
    "stockfish = Stockfish(stockfish_path)\n",
    "# setting SF to depth 15 because the Maia paper said that depth 15 SF is best at predicting human moves\n",
    "stockfish.set_depth(15)\n"
   ]
  },
  {
   "cell_type": "code",
   "execution_count": 103,
   "id": "d664a4e5",
   "metadata": {},
   "outputs": [
    {
     "name": "stdout",
     "output_type": "stream",
     "text": [
      "[{'Move': 'c3e2', 'Centipawn': -1264, 'Mate': None}, {'Move': 'c3d5', 'Centipawn': -1725, 'Mate': None}, {'Move': 'g3h5', 'Centipawn': -1726, 'Mate': None}, {'Move': 'a3a4', 'Centipawn': -2248, 'Mate': None}, {'Move': 'd1e2', 'Centipawn': None, 'Mate': -12}, {'Move': 'd1f1', 'Centipawn': None, 'Mate': -11}, {'Move': 'g3e2', 'Centipawn': None, 'Mate': -8}, {'Move': 'd3e2', 'Centipawn': None, 'Mate': -8}, {'Move': 'g3f5', 'Centipawn': None, 'Mate': -7}, {'Move': 'g3e4', 'Centipawn': None, 'Mate': -7}, {'Move': 'd1c1', 'Centipawn': None, 'Mate': -7}, {'Move': 'f3f4', 'Centipawn': None, 'Mate': -7}, {'Move': 'h2h4', 'Centipawn': None, 'Mate': -6}, {'Move': 'a1b1', 'Centipawn': None, 'Mate': -6}, {'Move': 'h1g1', 'Centipawn': None, 'Mate': -6}, {'Move': 'h2h3', 'Centipawn': None, 'Mate': -6}, {'Move': 'g3f1', 'Centipawn': None, 'Mate': -6}, {'Move': 'h1f1', 'Centipawn': None, 'Mate': -6}, {'Move': 'a1c1', 'Centipawn': None, 'Mate': -6}, {'Move': 'a1a2', 'Centipawn': None, 'Mate': -6}]\n",
      "r2q2k1/p4rPp/1pb1p3/8/3p4/P1NKbPN1/1PP3nP/R2Q3R w - - 0 20\n",
      "-1264\n",
      "None\n"
     ]
    },
    {
     "ename": "TypeError",
     "evalue": "bad operand type for abs(): 'NoneType'",
     "output_type": "error",
     "traceback": [
      "\u001b[0;31m---------------------------------------------------------------------------\u001b[0m",
      "\u001b[0;31mTypeError\u001b[0m                                 Traceback (most recent call last)",
      "\u001b[0;32m/var/folders/pv/gljhsnfs4bs254zbp4lm1y4m0000gq/T/ipykernel_97735/3289368481.py\u001b[0m in \u001b[0;36m<module>\u001b[0;34m\u001b[0m\n\u001b[0;32m----> 1\u001b[0;31m df['number_of_reasonable_moves'] = df.apply(\n\u001b[0m\u001b[1;32m      2\u001b[0m     lambda row: find_number_ok_moves(row.loc['board']), axis = 1)\n",
      "\u001b[0;32m~/Downloads/ENTER/lib/python3.9/site-packages/pandas/core/frame.py\u001b[0m in \u001b[0;36mapply\u001b[0;34m(self, func, axis, raw, result_type, args, **kwargs)\u001b[0m\n\u001b[1;32m   8738\u001b[0m             \u001b[0mkwargs\u001b[0m\u001b[0;34m=\u001b[0m\u001b[0mkwargs\u001b[0m\u001b[0;34m,\u001b[0m\u001b[0;34m\u001b[0m\u001b[0;34m\u001b[0m\u001b[0m\n\u001b[1;32m   8739\u001b[0m         )\n\u001b[0;32m-> 8740\u001b[0;31m         \u001b[0;32mreturn\u001b[0m \u001b[0mop\u001b[0m\u001b[0;34m.\u001b[0m\u001b[0mapply\u001b[0m\u001b[0;34m(\u001b[0m\u001b[0;34m)\u001b[0m\u001b[0;34m\u001b[0m\u001b[0;34m\u001b[0m\u001b[0m\n\u001b[0m\u001b[1;32m   8741\u001b[0m \u001b[0;34m\u001b[0m\u001b[0m\n\u001b[1;32m   8742\u001b[0m     def applymap(\n",
      "\u001b[0;32m~/Downloads/ENTER/lib/python3.9/site-packages/pandas/core/apply.py\u001b[0m in \u001b[0;36mapply\u001b[0;34m(self)\u001b[0m\n\u001b[1;32m    686\u001b[0m             \u001b[0;32mreturn\u001b[0m \u001b[0mself\u001b[0m\u001b[0;34m.\u001b[0m\u001b[0mapply_raw\u001b[0m\u001b[0;34m(\u001b[0m\u001b[0;34m)\u001b[0m\u001b[0;34m\u001b[0m\u001b[0;34m\u001b[0m\u001b[0m\n\u001b[1;32m    687\u001b[0m \u001b[0;34m\u001b[0m\u001b[0m\n\u001b[0;32m--> 688\u001b[0;31m         \u001b[0;32mreturn\u001b[0m \u001b[0mself\u001b[0m\u001b[0;34m.\u001b[0m\u001b[0mapply_standard\u001b[0m\u001b[0;34m(\u001b[0m\u001b[0;34m)\u001b[0m\u001b[0;34m\u001b[0m\u001b[0;34m\u001b[0m\u001b[0m\n\u001b[0m\u001b[1;32m    689\u001b[0m \u001b[0;34m\u001b[0m\u001b[0m\n\u001b[1;32m    690\u001b[0m     \u001b[0;32mdef\u001b[0m \u001b[0magg\u001b[0m\u001b[0;34m(\u001b[0m\u001b[0mself\u001b[0m\u001b[0;34m)\u001b[0m\u001b[0;34m:\u001b[0m\u001b[0;34m\u001b[0m\u001b[0;34m\u001b[0m\u001b[0m\n",
      "\u001b[0;32m~/Downloads/ENTER/lib/python3.9/site-packages/pandas/core/apply.py\u001b[0m in \u001b[0;36mapply_standard\u001b[0;34m(self)\u001b[0m\n\u001b[1;32m    810\u001b[0m \u001b[0;34m\u001b[0m\u001b[0m\n\u001b[1;32m    811\u001b[0m     \u001b[0;32mdef\u001b[0m \u001b[0mapply_standard\u001b[0m\u001b[0;34m(\u001b[0m\u001b[0mself\u001b[0m\u001b[0;34m)\u001b[0m\u001b[0;34m:\u001b[0m\u001b[0;34m\u001b[0m\u001b[0;34m\u001b[0m\u001b[0m\n\u001b[0;32m--> 812\u001b[0;31m         \u001b[0mresults\u001b[0m\u001b[0;34m,\u001b[0m \u001b[0mres_index\u001b[0m \u001b[0;34m=\u001b[0m \u001b[0mself\u001b[0m\u001b[0;34m.\u001b[0m\u001b[0mapply_series_generator\u001b[0m\u001b[0;34m(\u001b[0m\u001b[0;34m)\u001b[0m\u001b[0;34m\u001b[0m\u001b[0;34m\u001b[0m\u001b[0m\n\u001b[0m\u001b[1;32m    813\u001b[0m \u001b[0;34m\u001b[0m\u001b[0m\n\u001b[1;32m    814\u001b[0m         \u001b[0;31m# wrap results\u001b[0m\u001b[0;34m\u001b[0m\u001b[0;34m\u001b[0m\u001b[0m\n",
      "\u001b[0;32m~/Downloads/ENTER/lib/python3.9/site-packages/pandas/core/apply.py\u001b[0m in \u001b[0;36mapply_series_generator\u001b[0;34m(self)\u001b[0m\n\u001b[1;32m    826\u001b[0m             \u001b[0;32mfor\u001b[0m \u001b[0mi\u001b[0m\u001b[0;34m,\u001b[0m \u001b[0mv\u001b[0m \u001b[0;32min\u001b[0m \u001b[0menumerate\u001b[0m\u001b[0;34m(\u001b[0m\u001b[0mseries_gen\u001b[0m\u001b[0;34m)\u001b[0m\u001b[0;34m:\u001b[0m\u001b[0;34m\u001b[0m\u001b[0;34m\u001b[0m\u001b[0m\n\u001b[1;32m    827\u001b[0m                 \u001b[0;31m# ignore SettingWithCopy here in case the user mutates\u001b[0m\u001b[0;34m\u001b[0m\u001b[0;34m\u001b[0m\u001b[0m\n\u001b[0;32m--> 828\u001b[0;31m                 \u001b[0mresults\u001b[0m\u001b[0;34m[\u001b[0m\u001b[0mi\u001b[0m\u001b[0;34m]\u001b[0m \u001b[0;34m=\u001b[0m \u001b[0mself\u001b[0m\u001b[0;34m.\u001b[0m\u001b[0mf\u001b[0m\u001b[0;34m(\u001b[0m\u001b[0mv\u001b[0m\u001b[0;34m)\u001b[0m\u001b[0;34m\u001b[0m\u001b[0;34m\u001b[0m\u001b[0m\n\u001b[0m\u001b[1;32m    829\u001b[0m                 \u001b[0;32mif\u001b[0m \u001b[0misinstance\u001b[0m\u001b[0;34m(\u001b[0m\u001b[0mresults\u001b[0m\u001b[0;34m[\u001b[0m\u001b[0mi\u001b[0m\u001b[0;34m]\u001b[0m\u001b[0;34m,\u001b[0m \u001b[0mABCSeries\u001b[0m\u001b[0;34m)\u001b[0m\u001b[0;34m:\u001b[0m\u001b[0;34m\u001b[0m\u001b[0;34m\u001b[0m\u001b[0m\n\u001b[1;32m    830\u001b[0m                     \u001b[0;31m# If we have a view on v, we need to make a copy because\u001b[0m\u001b[0;34m\u001b[0m\u001b[0;34m\u001b[0m\u001b[0m\n",
      "\u001b[0;32m/var/folders/pv/gljhsnfs4bs254zbp4lm1y4m0000gq/T/ipykernel_97735/3289368481.py\u001b[0m in \u001b[0;36m<lambda>\u001b[0;34m(row)\u001b[0m\n\u001b[1;32m      1\u001b[0m df['number_of_reasonable_moves'] = df.apply(\n\u001b[0;32m----> 2\u001b[0;31m     lambda row: find_number_ok_moves(row.loc['board']), axis = 1)\n\u001b[0m",
      "\u001b[0;32m/var/folders/pv/gljhsnfs4bs254zbp4lm1y4m0000gq/T/ipykernel_97735/1259289159.py\u001b[0m in \u001b[0;36mfind_number_ok_moves\u001b[0;34m(fen, diff_raw_cp)\u001b[0m\n\u001b[1;32m     23\u001b[0m             \u001b[0mprint\u001b[0m\u001b[0;34m(\u001b[0m\u001b[0mbest_move_eval\u001b[0m\u001b[0;34m)\u001b[0m\u001b[0;34m\u001b[0m\u001b[0;34m\u001b[0m\u001b[0m\n\u001b[1;32m     24\u001b[0m             \u001b[0mprint\u001b[0m\u001b[0;34m(\u001b[0m\u001b[0mcandidate_move_eval\u001b[0m\u001b[0;34m)\u001b[0m\u001b[0;34m\u001b[0m\u001b[0;34m\u001b[0m\u001b[0m\n\u001b[0;32m---> 25\u001b[0;31m         \u001b[0;32mif\u001b[0m \u001b[0mmin\u001b[0m\u001b[0;34m(\u001b[0m\u001b[0mabs\u001b[0m\u001b[0;34m(\u001b[0m\u001b[0mbest_move_eval\u001b[0m\u001b[0;34m)\u001b[0m\u001b[0;34m,\u001b[0m \u001b[0mabs\u001b[0m\u001b[0;34m(\u001b[0m\u001b[0mcandidate_move_eval\u001b[0m\u001b[0;34m)\u001b[0m\u001b[0;34m)\u001b[0m \u001b[0;34m>\u001b[0m \u001b[0;36m500\u001b[0m \u001b[0;32mand\u001b[0m \u001b[0mbest_move_eval\u001b[0m \u001b[0;34m*\u001b[0m \u001b[0mcandidate_move_eval\u001b[0m \u001b[0;34m>=\u001b[0m \u001b[0;36m0\u001b[0m\u001b[0;34m:\u001b[0m\u001b[0;34m\u001b[0m\u001b[0;34m\u001b[0m\u001b[0m\n\u001b[0m\u001b[1;32m     26\u001b[0m             \u001b[0;32mcontinue\u001b[0m\u001b[0;34m\u001b[0m\u001b[0;34m\u001b[0m\u001b[0m\n\u001b[1;32m     27\u001b[0m         \u001b[0;31m# otherwise, if the evaluation shifts by more than 2, call it a blunder\u001b[0m\u001b[0;34m\u001b[0m\u001b[0;34m\u001b[0m\u001b[0m\n",
      "\u001b[0;31mTypeError\u001b[0m: bad operand type for abs(): 'NoneType'"
     ]
    }
   ],
   "source": [
    "df['number_of_reasonable_moves'] = df.apply(\n",
    "    lambda row: find_number_ok_moves(row.loc['board']), axis = 1)"
   ]
  },
  {
   "cell_type": "code",
   "execution_count": null,
   "id": "20f5a977",
   "metadata": {},
   "outputs": [],
   "source": [
    "df['number_of_reasonable_moves']"
   ]
  },
  {
   "cell_type": "code",
   "execution_count": 89,
   "id": "1e8c41ed",
   "metadata": {},
   "outputs": [
    {
     "data": {
      "text/plain": [
       "'8/6b1/3pq1k1/2p3pp/1p1p1p2/1P1PrP1P/P5P1/2Q1RBK1 w - - 2 38'"
      ]
     },
     "execution_count": 89,
     "metadata": {},
     "output_type": "execute_result"
    }
   ],
   "source": [
    "df['board'][2]"
   ]
  },
  {
   "cell_type": "code",
   "execution_count": 54,
   "id": "e0a7a15a",
   "metadata": {},
   "outputs": [],
   "source": [
    "stockfish.set_fen_position(\"6k1/1b3pp1/p6p/1P1p2q1/P2P4/1QP4P/4rPP1/5RK1 w - - 1 28\")"
   ]
  },
  {
   "cell_type": "code",
   "execution_count": 55,
   "id": "c3339573",
   "metadata": {},
   "outputs": [
    {
     "data": {
      "text/plain": [
       "[{'Move': 'b5b6', 'Centipawn': -268, 'Mate': None},\n",
       " {'Move': 'b3b1', 'Centipawn': -276, 'Mate': None},\n",
       " {'Move': 'a4a5', 'Centipawn': -300, 'Mate': None},\n",
       " {'Move': 'g1h1', 'Centipawn': -303, 'Mate': None},\n",
       " {'Move': 'g1h2', 'Centipawn': -310, 'Mate': None},\n",
       " {'Move': 'b3b4', 'Centipawn': -361, 'Mate': None},\n",
       " {'Move': 'b3a3', 'Centipawn': -367, 'Mate': None},\n",
       " {'Move': 'b3d1', 'Centipawn': -371, 'Mate': None},\n",
       " {'Move': 'h3h4', 'Centipawn': -372, 'Mate': None},\n",
       " {'Move': 'f1d1', 'Centipawn': -374, 'Mate': None},\n",
       " {'Move': 'g2g3', 'Centipawn': -382, 'Mate': None},\n",
       " {'Move': 'f1b1', 'Centipawn': -428, 'Mate': None},\n",
       " {'Move': 'f1a1', 'Centipawn': -436, 'Mate': None},\n",
       " {'Move': 'b5a6', 'Centipawn': -489, 'Mate': None},\n",
       " {'Move': 'g2g4', 'Centipawn': -566, 'Mate': None},\n",
       " {'Move': 'c3c4', 'Centipawn': -1056, 'Mate': None},\n",
       " {'Move': 'b3c2', 'Centipawn': -1205, 'Mate': None},\n",
       " {'Move': 'b3b2', 'Centipawn': -1209, 'Mate': None},\n",
       " {'Move': 'b3a2', 'Centipawn': -1240, 'Mate': None},\n",
       " {'Move': 'b3c4', 'Centipawn': None, 'Mate': -7}]"
      ]
     },
     "execution_count": 55,
     "metadata": {},
     "output_type": "execute_result"
    }
   ],
   "source": [
    "stockfish.get_top_moves(20)"
   ]
  },
  {
   "cell_type": "code",
   "execution_count": 57,
   "id": "b973e809",
   "metadata": {},
   "outputs": [
    {
     "data": {
      "text/plain": [
       "0.011"
      ]
     },
     "execution_count": 57,
     "metadata": {},
     "output_type": "execute_result"
    }
   ],
   "source": [
    "Cp(-268).wdl().expectation()-Cp(-1240).wdl().expectation()"
   ]
  },
  {
   "cell_type": "code",
   "execution_count": 59,
   "id": "ad862050",
   "metadata": {},
   "outputs": [
    {
     "data": {
      "text/plain": [
       "0.9825"
      ]
     },
     "execution_count": 59,
     "metadata": {},
     "output_type": "execute_result"
    }
   ],
   "source": [
    "Cp(250).wdl().expectation()"
   ]
  },
  {
   "cell_type": "code",
   "execution_count": 60,
   "id": "3f0e8e0b",
   "metadata": {},
   "outputs": [
    {
     "data": {
      "text/plain": [
       "0.66"
      ]
     },
     "execution_count": 60,
     "metadata": {},
     "output_type": "execute_result"
    }
   ],
   "source": [
    "Cp(100).wdl().expectation()"
   ]
  },
  {
   "cell_type": "code",
   "execution_count": 131,
   "id": "712fbd14",
   "metadata": {},
   "outputs": [
    {
     "name": "stdout",
     "output_type": "stream",
     "text": [
      "PovScore(Cp(+17), WHITE)\n",
      "CPU times: user 6.69 ms, sys: 16.4 ms, total: 23.1 ms\n",
      "Wall time: 220 ms\n"
     ]
    }
   ],
   "source": [
    "%%time\n",
    "board = chess.Board(\"rnbqkbnr/pppppppp/8/8/8/8/PPPPPPPP/RNBQKBNR w KQkq - 0 1\")"
   ]
  },
  {
   "cell_type": "code",
   "execution_count": 133,
   "id": "33db649f",
   "metadata": {},
   "outputs": [
    {
     "name": "stdout",
     "output_type": "stream",
     "text": [
      "         120 function calls in 0.219 seconds\n",
      "\n",
      "   Ordered by: standard name\n",
      "\n",
      "   ncalls  tottime  percall  cumtime  percall filename:lineno(function)\n",
      "        1    0.000    0.000    0.218    0.218 858546784.py:7(stockfish_evaluation)\n",
      "        1    0.000    0.000    0.218    0.218 <string>:1(<module>)\n",
      "        1    0.000    0.000    0.000    0.000 <string>:2(__init__)\n",
      "        2    0.000    0.000    0.000    0.000 _base.py:317(__init__)\n",
      "        2    0.000    0.000    0.000    0.000 _base.py:387(__get_result)\n",
      "        2    0.000    0.000    0.217    0.109 _base.py:417(result)\n",
      "        1    0.000    0.000    0.000    0.000 _weakrefset.py:39(_remove)\n",
      "        1    0.000    0.000    0.000    0.000 _weakrefset.py:86(add)\n",
      "        2    0.000    0.000    0.000    0.000 base_events.py:1908(get_debug)\n",
      "        2    0.000    0.000    0.000    0.000 base_events.py:508(_check_closed)\n",
      "        2    0.000    0.000    0.000    0.000 base_events.py:765(_call_soon)\n",
      "        2    0.000    0.000    0.000    0.000 base_events.py:789(call_soon_threadsafe)\n",
      "        1    0.000    0.000    0.000    0.000 contextlib.py:114(__enter__)\n",
      "        1    0.000    0.000    0.000    0.000 contextlib.py:123(__exit__)\n",
      "        1    0.000    0.000    0.000    0.000 contextlib.py:261(helper)\n",
      "        1    0.000    0.000    0.000    0.000 contextlib.py:86(__init__)\n",
      "        1    0.000    0.000    0.000    0.000 coroutines.py:164(iscoroutinefunction)\n",
      "        1    0.000    0.000    0.000    0.000 coroutines.py:177(iscoroutine)\n",
      "        1    0.000    0.000    0.167    0.167 engine.py:174(run_in_background)\n",
      "        1    0.000    0.000    0.000    0.000 engine.py:2696(_timeout_for)\n",
      "        2    0.000    0.000    0.000    0.000 engine.py:2701(_not_shut_down)\n",
      "        1    0.000    0.000    0.051    0.051 engine.py:2758(analyse)\n",
      "        1    0.000    0.000    0.000    0.000 engine.py:2780(close)\n",
      "        1    0.000    0.000    0.167    0.167 engine.py:2793(popen)\n",
      "        1    0.000    0.000    0.167    0.167 engine.py:2810(popen_uci)\n",
      "        2    0.000    0.000    0.000    0.000 events.py:31(__init__)\n",
      "        1    0.000    0.000    0.000    0.000 events.py:722(get_event_loop_policy)\n",
      "        1    0.000    0.000    0.000    0.000 functools.py:420(_unwrap_partial)\n",
      "        1    0.000    0.000    0.000    0.000 inspect.py:159(isfunction)\n",
      "        1    0.000    0.000    0.000    0.000 inspect.py:172(_has_code_flag)\n",
      "        1    0.000    0.000    0.000    0.000 inspect.py:190(iscoroutinefunction)\n",
      "        1    0.000    0.000    0.000    0.000 inspect.py:81(ismethod)\n",
      "        2    0.000    0.000    0.000    0.000 selector_events.py:129(_write_to_self)\n",
      "        1    0.000    0.000    0.000    0.000 tasks.py:914(run_coroutine_threadsafe)\n",
      "        1    0.000    0.000    0.000    0.000 threading.py:1127(daemon)\n",
      "        1    0.000    0.000    0.000    0.000 threading.py:1209(_make_invoke_excepthook)\n",
      "        1    0.000    0.000    0.000    0.000 threading.py:1338(current_thread)\n",
      "        3    0.000    0.000    0.000    0.000 threading.py:228(__init__)\n",
      "        3    0.000    0.000    0.000    0.000 threading.py:256(__enter__)\n",
      "        3    0.000    0.000    0.000    0.000 threading.py:259(__exit__)\n",
      "        1    0.000    0.000    0.000    0.000 threading.py:265(_release_save)\n",
      "        1    0.000    0.000    0.000    0.000 threading.py:268(_acquire_restore)\n",
      "        1    0.000    0.000    0.000    0.000 threading.py:271(_is_owned)\n",
      "        3    0.000    0.000    0.218    0.073 threading.py:280(wait)\n",
      "        1    0.000    0.000    0.000    0.000 threading.py:521(__init__)\n",
      "        1    0.000    0.000    0.000    0.000 threading.py:529(is_set)\n",
      "        1    0.000    0.000    0.001    0.001 threading.py:556(wait)\n",
      "        1    0.000    0.000    0.000    0.000 threading.py:795(__init__)\n",
      "        2    0.000    0.000    0.000    0.000 threading.py:82(RLock)\n",
      "        1    0.000    0.000    0.001    0.001 threading.py:873(start)\n",
      "        2    0.000    0.000    0.000    0.000 {built-in method _contextvars.copy_context}\n",
      "        4    0.000    0.000    0.000    0.000 {built-in method _thread.allocate_lock}\n",
      "        1    0.000    0.000    0.000    0.000 {built-in method _thread.get_ident}\n",
      "        1    0.000    0.000    0.000    0.000 {built-in method _thread.start_new_thread}\n",
      "        1    0.000    0.000    0.219    0.219 {built-in method builtins.exec}\n",
      "        1    0.000    0.000    0.000    0.000 {built-in method builtins.getattr}\n",
      "        4    0.000    0.000    0.000    0.000 {built-in method builtins.isinstance}\n",
      "        2    0.000    0.000    0.000    0.000 {built-in method builtins.next}\n",
      "        2    0.000    0.000    0.000    0.000 {method '__enter__' of '_thread.RLock' objects}\n",
      "        1    0.000    0.000    0.000    0.000 {method '__enter__' of '_thread.lock' objects}\n",
      "        3    0.000    0.000    0.000    0.000 {method '__exit__' of '_thread.RLock' objects}\n",
      "        4    0.000    0.000    0.000    0.000 {method '__exit__' of '_thread.lock' objects}\n",
      "        2    0.000    0.000    0.000    0.000 {method '_acquire_restore' of '_thread.RLock' objects}\n",
      "        2    0.000    0.000    0.000    0.000 {method '_is_owned' of '_thread.RLock' objects}\n",
      "        2    0.000    0.000    0.000    0.000 {method '_release_save' of '_thread.RLock' objects}\n",
      "        8    0.218    0.027    0.218    0.027 {method 'acquire' of '_thread.lock' objects}\n",
      "        1    0.000    0.000    0.000    0.000 {method 'add' of 'set' objects}\n",
      "        5    0.000    0.000    0.000    0.000 {method 'append' of 'collections.deque' objects}\n",
      "        1    0.000    0.000    0.000    0.000 {method 'disable' of '_lsprof.Profiler' objects}\n",
      "        1    0.000    0.000    0.000    0.000 {method 'discard' of 'set' objects}\n",
      "        1    0.000    0.000    0.000    0.000 {method 'release' of '_thread.lock' objects}\n",
      "        2    0.000    0.000    0.000    0.000 {method 'send' of '_socket.socket' objects}\n",
      "\n",
      "\n"
     ]
    }
   ],
   "source": [
    "# Idea: instead of running SF for every row in the table, select randomly and sample, because SF \n",
    "# is too slow to do the whole table without parallelizing\n",
    "\n",
    "import cProfile\n",
    "import re\n",
    "cProfile.run('pov_score = stockfish_evaluation(board)[\"score\"]')"
   ]
  },
  {
   "cell_type": "code",
   "execution_count": null,
   "id": "2b0f9494",
   "metadata": {},
   "outputs": [],
   "source": []
  }
 ],
 "metadata": {
  "kernelspec": {
   "display_name": "Python 3 (ipykernel)",
   "language": "python",
   "name": "python3"
  },
  "language_info": {
   "codemirror_mode": {
    "name": "ipython",
    "version": 3
   },
   "file_extension": ".py",
   "mimetype": "text/x-python",
   "name": "python",
   "nbconvert_exporter": "python",
   "pygments_lexer": "ipython3",
   "version": "3.9.7"
  }
 },
 "nbformat": 4,
 "nbformat_minor": 5
}
