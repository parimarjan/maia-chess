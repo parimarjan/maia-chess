{
 "cells": [
  {
   "cell_type": "code",
   "execution_count": 3,
   "id": "catholic-wesley",
   "metadata": {},
   "outputs": [],
   "source": [
    "import pandas as pd\n",
    "import os"
   ]
  },
  {
   "cell_type": "code",
   "execution_count": 28,
   "id": "statistical-drinking",
   "metadata": {},
   "outputs": [],
   "source": [
    "#FN = \"Users/pari/Dropbox\\ (MIT)/lichess_db_standard_rated_2019-01.csv\"\n",
    "FN = \"/Users/pari/Dropbox (MIT)/lichess_db_standard_rated_2019-01.csv\""
   ]
  },
  {
   "cell_type": "code",
   "execution_count": 29,
   "id": "bigger-trace",
   "metadata": {},
   "outputs": [
    {
     "data": {
      "text/plain": [
       "True"
      ]
     },
     "execution_count": 29,
     "metadata": {},
     "output_type": "execute_result"
    }
   ],
   "source": [
    "os.path.exists(FN)"
   ]
  },
  {
   "cell_type": "code",
   "execution_count": 47,
   "id": "ignored-religion",
   "metadata": {},
   "outputs": [
    {
     "name": "stderr",
     "output_type": "stream",
     "text": [
      "/usr/local/lib/python3.9/site-packages/IPython/core/interactiveshell.py:3165: DtypeWarning: Columns (33) have mixed types.Specify dtype option on import or set low_memory=False.\n",
      "  has_raised = await self.run_ast_nodes(code_ast.body, cell_name,\n"
     ]
    }
   ],
   "source": [
    "df = pd.read_csv(FN, nrows=100000000)"
   ]
  },
  {
   "cell_type": "code",
   "execution_count": 48,
   "id": "closing-parking",
   "metadata": {},
   "outputs": [
    {
     "data": {
      "text/plain": [
       "count    1.000000e+08\n",
       "mean     3.659552e+01\n",
       "std      2.791560e+01\n",
       "min      0.000000e+00\n",
       "25%      1.500000e+01\n",
       "50%      3.200000e+01\n",
       "75%      5.100000e+01\n",
       "max      6.000000e+02\n",
       "Name: move_ply, dtype: float64"
      ]
     },
     "execution_count": 48,
     "metadata": {},
     "output_type": "execute_result"
    }
   ],
   "source": [
    "df[\"move_ply\"].describe()"
   ]
  },
  {
   "cell_type": "code",
   "execution_count": 49,
   "id": "underlying-notion",
   "metadata": {},
   "outputs": [],
   "source": [
    "df = df[df[\"move_ply\"] > 30]"
   ]
  },
  {
   "cell_type": "code",
   "execution_count": 50,
   "id": "exact-edwards",
   "metadata": {},
   "outputs": [],
   "source": [
    "df = df[df[\"low_time\"] == False]"
   ]
  },
  {
   "cell_type": "code",
   "execution_count": 51,
   "id": "considerable-aruba",
   "metadata": {},
   "outputs": [],
   "source": [
    "#len(df)"
   ]
  },
  {
   "cell_type": "code",
   "execution_count": 52,
   "id": "grave-ordinance",
   "metadata": {},
   "outputs": [],
   "source": [
    "df2 = df.sample(frac=1/float(32))"
   ]
  },
  {
   "cell_type": "code",
   "execution_count": 53,
   "id": "signed-penalty",
   "metadata": {},
   "outputs": [
    {
     "data": {
      "text/plain": [
       "1296622"
      ]
     },
     "execution_count": 53,
     "metadata": {},
     "output_type": "execute_result"
    }
   ],
   "source": [
    "len(df2)"
   ]
  },
  {
   "cell_type": "code",
   "execution_count": 57,
   "id": "diverse-implementation",
   "metadata": {},
   "outputs": [],
   "source": [
    "df2.to_csv(\"sample_evaluation_set.csv\", header=True, index=False)"
   ]
  },
  {
   "cell_type": "code",
   "execution_count": 58,
   "id": "minimal-engineering",
   "metadata": {},
   "outputs": [],
   "source": [
    "df3 = pd.read_csv(\"sample_evaluation_set.csv\")"
   ]
  },
  {
   "cell_type": "code",
   "execution_count": 59,
   "id": "tight-trauma",
   "metadata": {},
   "outputs": [
    {
     "data": {
      "text/html": [
       "<div>\n",
       "<style scoped>\n",
       "    .dataframe tbody tr th:only-of-type {\n",
       "        vertical-align: middle;\n",
       "    }\n",
       "\n",
       "    .dataframe tbody tr th {\n",
       "        vertical-align: top;\n",
       "    }\n",
       "\n",
       "    .dataframe thead th {\n",
       "        text-align: right;\n",
       "    }\n",
       "</style>\n",
       "<table border=\"1\" class=\"dataframe\">\n",
       "  <thead>\n",
       "    <tr style=\"text-align: right;\">\n",
       "      <th></th>\n",
       "      <th>game_id</th>\n",
       "      <th>type</th>\n",
       "      <th>result</th>\n",
       "      <th>white_player</th>\n",
       "      <th>black_player</th>\n",
       "      <th>white_elo</th>\n",
       "      <th>black_elo</th>\n",
       "      <th>time_control</th>\n",
       "      <th>num_ply</th>\n",
       "      <th>termination</th>\n",
       "      <th>...</th>\n",
       "      <th>active_pawn_count</th>\n",
       "      <th>active_queen_count</th>\n",
       "      <th>active_rook_count</th>\n",
       "      <th>is_check</th>\n",
       "      <th>num_legal_moves</th>\n",
       "      <th>opp_bishop_count</th>\n",
       "      <th>opp_knight_count</th>\n",
       "      <th>opp_pawn_count</th>\n",
       "      <th>opp_queen_count</th>\n",
       "      <th>opp_rook_count</th>\n",
       "    </tr>\n",
       "  </thead>\n",
       "  <tbody>\n",
       "    <tr>\n",
       "      <th>0</th>\n",
       "      <td>hYAIFMod</td>\n",
       "      <td>Rapid</td>\n",
       "      <td>0-1</td>\n",
       "      <td>Thiron31</td>\n",
       "      <td>Socialengineery</td>\n",
       "      <td>995</td>\n",
       "      <td>1019</td>\n",
       "      <td>600+0</td>\n",
       "      <td>74</td>\n",
       "      <td>Normal</td>\n",
       "      <td>...</td>\n",
       "      <td>3</td>\n",
       "      <td>0</td>\n",
       "      <td>2</td>\n",
       "      <td>1</td>\n",
       "      <td>6</td>\n",
       "      <td>0</td>\n",
       "      <td>1</td>\n",
       "      <td>4</td>\n",
       "      <td>0</td>\n",
       "      <td>2</td>\n",
       "    </tr>\n",
       "    <tr>\n",
       "      <th>1</th>\n",
       "      <td>7r7JbaS2</td>\n",
       "      <td>Rapid</td>\n",
       "      <td>0-1</td>\n",
       "      <td>Leirbag13</td>\n",
       "      <td>Nkhambako1</td>\n",
       "      <td>1304</td>\n",
       "      <td>1400</td>\n",
       "      <td>600+0</td>\n",
       "      <td>86</td>\n",
       "      <td>Normal</td>\n",
       "      <td>...</td>\n",
       "      <td>6</td>\n",
       "      <td>1</td>\n",
       "      <td>1</td>\n",
       "      <td>0</td>\n",
       "      <td>23</td>\n",
       "      <td>1</td>\n",
       "      <td>0</td>\n",
       "      <td>7</td>\n",
       "      <td>1</td>\n",
       "      <td>1</td>\n",
       "    </tr>\n",
       "    <tr>\n",
       "      <th>2</th>\n",
       "      <td>MIu2tb9C</td>\n",
       "      <td>Blitz</td>\n",
       "      <td>1-0</td>\n",
       "      <td>SlamDiesel</td>\n",
       "      <td>Buba98</td>\n",
       "      <td>986</td>\n",
       "      <td>1046</td>\n",
       "      <td>180+0</td>\n",
       "      <td>65</td>\n",
       "      <td>Normal</td>\n",
       "      <td>...</td>\n",
       "      <td>5</td>\n",
       "      <td>1</td>\n",
       "      <td>1</td>\n",
       "      <td>0</td>\n",
       "      <td>44</td>\n",
       "      <td>1</td>\n",
       "      <td>2</td>\n",
       "      <td>6</td>\n",
       "      <td>2</td>\n",
       "      <td>2</td>\n",
       "    </tr>\n",
       "    <tr>\n",
       "      <th>3</th>\n",
       "      <td>l3xpFiRv</td>\n",
       "      <td>Blitz</td>\n",
       "      <td>0-1</td>\n",
       "      <td>adout</td>\n",
       "      <td>Chessplayer-12354_h</td>\n",
       "      <td>1846</td>\n",
       "      <td>1835</td>\n",
       "      <td>300+0</td>\n",
       "      <td>86</td>\n",
       "      <td>Normal</td>\n",
       "      <td>...</td>\n",
       "      <td>7</td>\n",
       "      <td>1</td>\n",
       "      <td>2</td>\n",
       "      <td>0</td>\n",
       "      <td>38</td>\n",
       "      <td>0</td>\n",
       "      <td>0</td>\n",
       "      <td>5</td>\n",
       "      <td>1</td>\n",
       "      <td>2</td>\n",
       "    </tr>\n",
       "  </tbody>\n",
       "</table>\n",
       "<p>4 rows × 47 columns</p>\n",
       "</div>"
      ],
      "text/plain": [
       "    game_id   type result white_player         black_player  white_elo  \\\n",
       "0  hYAIFMod  Rapid    0-1     Thiron31      Socialengineery        995   \n",
       "1  7r7JbaS2  Rapid    0-1    Leirbag13           Nkhambako1       1304   \n",
       "2  MIu2tb9C  Blitz    1-0   SlamDiesel               Buba98        986   \n",
       "3  l3xpFiRv  Blitz    0-1        adout  Chessplayer-12354_h       1846   \n",
       "\n",
       "   black_elo time_control  num_ply termination  ...  active_pawn_count  \\\n",
       "0       1019        600+0       74      Normal  ...                  3   \n",
       "1       1400        600+0       86      Normal  ...                  6   \n",
       "2       1046        180+0       65      Normal  ...                  5   \n",
       "3       1835        300+0       86      Normal  ...                  7   \n",
       "\n",
       "   active_queen_count  active_rook_count  is_check num_legal_moves  \\\n",
       "0                   0                  2         1               6   \n",
       "1                   1                  1         0              23   \n",
       "2                   1                  1         0              44   \n",
       "3                   1                  2         0              38   \n",
       "\n",
       "  opp_bishop_count  opp_knight_count  opp_pawn_count  opp_queen_count  \\\n",
       "0                0                 1               4                0   \n",
       "1                1                 0               7                1   \n",
       "2                1                 2               6                2   \n",
       "3                0                 0               5                1   \n",
       "\n",
       "   opp_rook_count  \n",
       "0               2  \n",
       "1               1  \n",
       "2               2  \n",
       "3               2  \n",
       "\n",
       "[4 rows x 47 columns]"
      ]
     },
     "execution_count": 59,
     "metadata": {},
     "output_type": "execute_result"
    }
   ],
   "source": [
    "df3.head(4)"
   ]
  },
  {
   "cell_type": "code",
   "execution_count": null,
   "id": "domestic-spending",
   "metadata": {},
   "outputs": [],
   "source": []
  }
 ],
 "metadata": {
  "kernelspec": {
   "display_name": "Python 3",
   "language": "python",
   "name": "python3"
  },
  "language_info": {
   "codemirror_mode": {
    "name": "ipython",
    "version": 3
   },
   "file_extension": ".py",
   "mimetype": "text/x-python",
   "name": "python",
   "nbconvert_exporter": "python",
   "pygments_lexer": "ipython3",
   "version": "3.9.9"
  }
 },
 "nbformat": 4,
 "nbformat_minor": 5
}
